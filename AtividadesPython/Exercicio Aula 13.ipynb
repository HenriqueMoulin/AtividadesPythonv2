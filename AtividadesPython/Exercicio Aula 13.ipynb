{
 "cells": [
  {
   "cell_type": "code",
   "execution_count": null,
   "metadata": {},
   "outputs": [],
   "source": [
    "Nome: Henrique Moulin Domingues RA: 816117860"
   ]
  },
  {
   "cell_type": "markdown",
   "metadata": {},
   "source": [
    "### Uma função procedural e outra lambda que recebam uma tupla com 3 lados de um triângulo e calcule sua área se estes 3 lados realmente formarem um triângulo. PS: você pode usar mais de uma lambda para resolver o problema.\n",
    "### Condições para que um conjunto três segmentos de reta a, b e c sejam um triângulo:\n",
    "<img src=\"e_triangulo.png\" width=\"300\">\n",
    "### Cálculo da área (Fórmula de Heron)\n",
    "<img src=\"heron.png\" width=\"400\">"
   ]
  },
  {
   "cell_type": "code",
   "execution_count": 2,
   "metadata": {},
   "outputs": [],
   "source": [
    "import math\n",
    "def area_triangulo(t):\n",
    "    a = t[0]\n",
    "    b = t[1]\n",
    "    c = t[2]\n",
    "    e_triangulo = False\n",
    "    area = 0\n",
    "    if  abs(b - c) < a < b + c and \\\n",
    "        abs(a - c) < b < a + c and \\\n",
    "        abs(a - b) < c < a + b:\n",
    "        e_triangulo = True\n",
    "    if e_triangulo:\n",
    "        p = (a+b+c)/2\n",
    "        area = math.sqrt(p*(p-a)*(p-b)*(p-c))\n",
    "    else :\n",
    "        return 'não é um triângulo'\n",
    "    return area"
   ]
  },
  {
   "cell_type": "code",
   "execution_count": 3,
   "metadata": {},
   "outputs": [
    {
     "name": "stdout",
     "output_type": "stream",
     "text": [
      "9.16515138991168\n",
      "39.59797974644666\n",
      "não é um triângulo\n"
     ]
    }
   ],
   "source": [
    "t = (5,4,5)\n",
    "print(area_triangulo(t))\n",
    "t = (9,9,14)\n",
    "print(area_triangulo(t))\n",
    "t = (9,4,140)\n",
    "print(area_triangulo(t))"
   ]
  },
  {
   "cell_type": "code",
   "execution_count": 4,
   "metadata": {},
   "outputs": [],
   "source": [
    "import math\n",
    "l_triangulo = lambda a,b,c: True if abs(b - c) < a < b + c and \\\n",
    "        abs(a - c) < b < a + c and \\\n",
    "        abs(a - b) < c < a + b else False\n",
    "        \n",
    "l_meio_perimetro = lambda a,b,c: (a+b+c)/2\n",
    "\n",
    "l_area_lados = lambda a,b,c,p: math.sqrt(p*(p-a)*(p-b)*(p-c))\n",
    "\n",
    "l_area = lambda t: l_area_lados(t[0],t[1],t[2],\\\n",
    "         l_meio_perimetro(t[0],t[1],t[2]))\\\n",
    "         if l_triangulo(t[0],t[1],t[2]) else 'não é triângulo'"
   ]
  },
  {
   "cell_type": "code",
   "execution_count": 5,
   "metadata": {},
   "outputs": [
    {
     "name": "stdout",
     "output_type": "stream",
     "text": [
      "não é triângulo\n",
      "não é triângulo\n",
      "não é triângulo\n"
     ]
    }
   ],
   "source": [
    "t = (3,8,5)\n",
    "print(l_area(t))\n",
    "t = (9,4,14)\n",
    "print(l_area(t))\n",
    "t = (9,4,140)\n",
    "print(l_area(t))"
   ]
  },
  {
   "cell_type": "code",
   "execution_count": null,
   "metadata": {},
   "outputs": [],
   "source": []
  },
  {
   "cell_type": "code",
   "execution_count": null,
   "metadata": {},
   "outputs": [],
   "source": []
  }
 ],
 "metadata": {
  "kernelspec": {
   "display_name": "Python 3",
   "language": "python",
   "name": "python3"
  },
  "language_info": {
   "codemirror_mode": {
    "name": "ipython",
    "version": 3
   },
   "file_extension": ".py",
   "mimetype": "text/x-python",
   "name": "python",
   "nbconvert_exporter": "python",
   "pygments_lexer": "ipython3",
   "version": "3.6.7"
  }
 },
 "nbformat": 4,
 "nbformat_minor": 2
}
